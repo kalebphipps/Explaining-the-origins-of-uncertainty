{
 "cells": [
  {
   "cell_type": "markdown",
   "source": [
    "## Explanation Analysis Price\n",
    "This Notebook is designed to generate the explanations for the origins of uncertainty for the Price data set"
   ],
   "metadata": {
    "collapsed": false
   }
  },
  {
   "cell_type": "code",
   "execution_count": 13,
   "outputs": [],
   "source": [
    "import numpy as np\n",
    "import pandas as pd\n",
    "import torch\n",
    "import sys\n",
    "import os\n",
    "\n",
    "sys.path.append(\"..\")\n",
    "from models.gaussian_exog_no_temp_network import GaussianExogenousNoTemporalNetwork, \\\n",
    "    create_exogenous_no_temp_gaussian_predictions\n",
    "from models.gaussian_small_exog_no_temp_network import GaussianSmallExogenousNoTemporalNetwork, \\\n",
    "    create_small_exogenous_no_temp_gaussian_predictions\n",
    "from pipelines.preprocessing_pipeline import prep_data_exogenous, prep_data_small_exogenous\n",
    "from metrics.evaluation_real_exogenous import create_stacked_explainations, create_prediction_plot, calculate_mean_stacked_explainations, plot_average_attribution_for_multiple_samples_solar, plot_mean_specific_time, plot_mean_specific_time_history\n",
    "from metrics.crps import calculate_crps_gaussian\n",
    "import tomlkit"
   ],
   "metadata": {
    "collapsed": false,
    "ExecuteTime": {
     "end_time": "2023-10-10T15:12:55.956769Z",
     "start_time": "2023-10-10T15:12:55.933731Z"
    }
   }
  },
  {
   "cell_type": "code",
   "execution_count": 14,
   "outputs": [],
   "source": [
    "df = pd.read_csv(\"../data/price.csv\", index_col='timestamp')\n",
    "df.index = pd.date_range(start='01-01-2011 00:00:00', freq='H', periods=len(df))\n",
    "df = df[['Forecasted Total Load', 'Forecasted Zonal Load', 'Zonal Price']]\n",
    "df.index.name = 'time'"
   ],
   "metadata": {
    "collapsed": false,
    "ExecuteTime": {
     "end_time": "2023-10-10T15:12:56.212812Z",
     "start_time": "2023-10-10T15:12:55.943346Z"
    }
   }
  },
  {
   "cell_type": "code",
   "execution_count": 15,
   "outputs": [],
   "source": [
    "with open('../configs/price_config.toml', 'rb') as f:\n",
    "    configs = tomlkit.load(f)"
   ],
   "metadata": {
    "collapsed": false,
    "ExecuteTime": {
     "end_time": "2023-10-10T15:12:56.221852Z",
     "start_time": "2023-10-10T15:12:56.213398Z"
    }
   }
  },
  {
   "cell_type": "markdown",
   "source": [
    "### Select Config and load models\n",
    "The first step is to select the configuration we use and to load the appropriate models that have already been trained"
   ],
   "metadata": {
    "collapsed": false
   }
  },
  {
   "cell_type": "code",
   "execution_count": 16,
   "outputs": [],
   "source": [
    "# Select config to use\n",
    "config = configs['Config1']"
   ],
   "metadata": {
    "collapsed": false,
    "ExecuteTime": {
     "end_time": "2023-10-10T15:12:56.226332Z",
     "start_time": "2023-10-10T15:12:56.222382Z"
    }
   }
  },
  {
   "cell_type": "code",
   "execution_count": 17,
   "outputs": [],
   "source": [
    "test_size = config['test_size']\n",
    "number_of_features = config['number_of_features']\n",
    "hidden_size_exogenous = config['hidden_size_exogenous']\n",
    "hidden_size_exogenous_history = config['hidden_size_exogenous_history']\n",
    "learning_rate = config['learning_rate']\n",
    "hidden_size_no_temporal = config['hidden_size_no_temporal']\n",
    "hidden_size_no_temporal_history = config['hidden_size_no_temporal_history']\n",
    "num_epochs = config['num_epochs']\n",
    "batch_size = config['batch_size']\n",
    "save_path = config['save_path']\n",
    "forecast_horizon = config['forecast_horizon']\n",
    "history_length = config['history_length']\n",
    "save_path_crps = f\"{save_path}crps/\"\n",
    "save_exogenous_name = config['save_exogenous_name']\n",
    "save_no_temporal_name = config['save_no_temporal_name']\n",
    "descriptor = config['descriptor']\n",
    "target_var = config['target_var']\n",
    "feature1_var = config['feature1_var']\n",
    "feature2_var = config['feature2_var']\n",
    "feature3_var = config['feature3_var']"
   ],
   "metadata": {
    "collapsed": false,
    "ExecuteTime": {
     "end_time": "2023-10-10T15:12:56.233305Z",
     "start_time": "2023-10-10T15:12:56.230247Z"
    }
   }
  },
  {
   "cell_type": "code",
   "execution_count": 18,
   "outputs": [],
   "source": [
    "if number_of_features == 3:\n",
    "    target_train, target_test, history_train, history_test, hour_cos_train, hour_cos_test, hour_sin_train, \\\n",
    "        hour_sin_test, day_cos_train, day_cos_test, day_sin_train, day_sin_test, month_cos_train, \\\n",
    "        month_cos_test, month_sin_train, month_sin_test, feature1_train, feature1_test, feature2_train, \\\n",
    "        feature2_test, feature3_train, feature3_test, target_scaler, history_scaler, feature1_scaler, \\\n",
    "        feature2_scaler, feature3_scaler = prep_data_exogenous(df=df,\n",
    "                                                               target_var=target_var,\n",
    "                                                               feature1_var=feature1_var,\n",
    "                                                               feature2_var=feature2_var,\n",
    "                                                               feature3_var=feature3_var,\n",
    "                                                               history_length=history_length,\n",
    "                                                               forecast_horizon=forecast_horizon,\n",
    "                                                               test_size=test_size)\n",
    "\n",
    "    model_no_temporal = GaussianExogenousNoTemporalNetwork(history_size=history_length,\n",
    "                                                           feature_size=forecast_horizon,\n",
    "                                                           hidden_size=hidden_size_no_temporal,\n",
    "                                                           hidden_size_history=hidden_size_no_temporal_history,\n",
    "                                                           output_size=forecast_horizon)\n",
    "    model_no_temporal.load_state_dict(torch.load(f\"../{save_path}models/{descriptor}_{save_no_temporal_name}\"))\n",
    "    mu_test_no_temporal, logvar_test_no_temporal = create_exogenous_no_temp_gaussian_predictions(\n",
    "        model=model_no_temporal,\n",
    "        history=history_test,\n",
    "        feature1=feature1_test,\n",
    "        feature2=feature2_test,\n",
    "        feature3=feature3_test)\n",
    "    crps_no_temporal = calculate_crps_gaussian(y_test=target_test,\n",
    "                                               mu_test=mu_test_no_temporal,\n",
    "                                               logvar_test=logvar_test_no_temporal)\n",
    "else:\n",
    "    target_train, target_test, history_train, history_test, hour_cos_train, hour_cos_test, hour_sin_train, \\\n",
    "        hour_sin_test, day_cos_train, day_cos_test, day_sin_train, day_sin_test, month_cos_train, \\\n",
    "        month_cos_test, month_sin_train, month_sin_test, feature1_train, feature1_test, feature2_train, \\\n",
    "        feature2_test, target_scaler, history_scaler, feature1_scaler, \\\n",
    "        feature2_scaler = prep_data_small_exogenous(df=df,\n",
    "                                                    target_var=target_var,\n",
    "                                                    feature1_var=feature1_var,\n",
    "                                                    feature2_var=feature2_var,\n",
    "                                                    history_length=history_length,\n",
    "                                                    forecast_horizon=forecast_horizon,\n",
    "                                                    test_size=test_size)\n",
    "\n",
    "    model_no_temporal = GaussianSmallExogenousNoTemporalNetwork(history_size=history_length,\n",
    "                                                                feature_size=forecast_horizon,\n",
    "                                                                hidden_size=hidden_size_no_temporal,\n",
    "                                                                hidden_size_history=hidden_size_no_temporal_history,\n",
    "                                                                output_size=forecast_horizon)\n",
    "    model_no_temporal.load_state_dict(torch.load(f\"../{save_path}models/{descriptor}_{save_no_temporal_name}\"))\n",
    "    mu_test_no_temporal, logvar_test_no_temporal = create_small_exogenous_no_temp_gaussian_predictions(\n",
    "        model=model_no_temporal,\n",
    "        history=history_test,\n",
    "        feature1=feature1_test,\n",
    "        feature2=feature2_test)\n",
    "    crps_no_temporal = calculate_crps_gaussian(y_test=target_test,\n",
    "                                               mu_test=mu_test_no_temporal,\n",
    "                                               logvar_test=logvar_test_no_temporal)"
   ],
   "metadata": {
    "collapsed": false,
    "ExecuteTime": {
     "end_time": "2023-10-10T15:13:07.737837Z",
     "start_time": "2023-10-10T15:12:56.238317Z"
    }
   }
  },
  {
   "cell_type": "markdown",
   "source": [
    "### Calculate CRPS and plot predictions\n",
    "The next step is to calculate the CRPS and plot some prediction intervals"
   ],
   "metadata": {
    "collapsed": false
   }
  },
  {
   "cell_type": "code",
   "execution_count": 19,
   "outputs": [
    {
     "data": {
      "text/plain": "0.17774682"
     },
     "execution_count": 19,
     "metadata": {},
     "output_type": "execute_result"
    }
   ],
   "source": [
    "crps_no_temporal"
   ],
   "metadata": {
    "collapsed": false,
    "ExecuteTime": {
     "end_time": "2023-10-10T15:13:07.745031Z",
     "start_time": "2023-10-10T15:13:07.738977Z"
    }
   }
  },
  {
   "cell_type": "code",
   "execution_count": 20,
   "outputs": [],
   "source": [
    "#-24 for 168h\n",
    "plot_no_temporal = create_prediction_plot(start=168*10+19-24,\n",
    "                                          num=2,\n",
    "                                          fh=forecast_horizon,\n",
    "                                          target=target_test,\n",
    "                                          mu=mu_test_no_temporal,\n",
    "                                          logvar=logvar_test_no_temporal,\n",
    "                                          scaler=target_scaler,\n",
    "                                          name=f\"Figures/price/PI{history_length}.tex\")"
   ],
   "metadata": {
    "collapsed": false,
    "ExecuteTime": {
     "end_time": "2023-10-10T15:13:07.790657Z",
     "start_time": "2023-10-10T15:13:07.745367Z"
    }
   }
  },
  {
   "cell_type": "markdown",
   "source": [
    "## Create and Investigate Attributions\n",
    "Now we create and investigate the attributions"
   ],
   "metadata": {
    "collapsed": false
   }
  },
  {
   "cell_type": "code",
   "execution_count": 21,
   "outputs": [],
   "source": [
    "day_offset = 19\n",
    "considered_indexes = np.arange(0, len(history_test), 1)\n",
    "\n",
    "if history_length == 168:\n",
    "    name_mapping = dict({0: \"Friday\", 24: \"Saturday\", 48: \"Sunday\",\n",
    "                    72: \"Monday\", 96: \"Tuesday\", 120: \"Wednesday\",\n",
    "                    144: \"Thursday\"})\n",
    "elif history_length == 48:\n",
    "    name_mapping = dict({0: \"Thursday\", 24: \"Friday\", 48: \"Saturday\",\n",
    "                        72: \"Sunday\", 96: \"Monday\", 120: \"Tuesday\",\n",
    "                        144: \"Wednesday\"})\n",
    "# Consider weekly patterns\n",
    "the_step = 168\n",
    "save_loc = \"Figures/price/\"\n",
    "isExist = os.path.exists(save_loc)\n",
    "if not isExist:\n",
    "    # Create a new directory because it does not exist\n",
    "    os.makedirs(save_loc)"
   ],
   "metadata": {
    "collapsed": false,
    "ExecuteTime": {
     "end_time": "2023-10-10T15:13:07.795448Z",
     "start_time": "2023-10-10T15:13:07.786220Z"
    }
   }
  },
  {
   "cell_type": "code",
   "execution_count": null,
   "outputs": [],
   "source": [
    "stacked_explain = create_stacked_explainations(model=model_no_temporal,\n",
    "                                               indexes=considered_indexes,\n",
    "                                               fh=forecast_horizon,\n",
    "                                               history=history_test,\n",
    "                                               feature1=feature1_test,\n",
    "                                               feature2=feature2_test,\n",
    "                                               feature3=None)"
   ],
   "metadata": {
    "collapsed": false
   }
  },
  {
   "cell_type": "code",
   "execution_count": null,
   "outputs": [],
   "source": [
    "his_dict = dict()\n",
    "feature1_dict = dict()\n",
    "feature2_dict = dict()\n",
    "for start_hour in [0, 24, 48, 72, 96, 120, 144]:\n",
    "    his_dict[start_hour] = plot_mean_specific_time_history(stacked_explainer_dict=stacked_explain,\n",
    "                                                           indexes=considered_indexes,\n",
    "                                                           step=the_step,\n",
    "                                                           start=start_hour,\n",
    "                                                           scaler=history_scaler,\n",
    "                                                           fh=forecast_horizon,\n",
    "                                                           hl=history_length,\n",
    "                                                           history=history_test,\n",
    "                                                           day_offset=day_offset)\n",
    "    feature1_dict[start_hour] = plot_mean_specific_time(stacked_explainer_dict=stacked_explain,\n",
    "                                                        indexes=considered_indexes,\n",
    "                                                        step=the_step,\n",
    "                                                        start=start_hour,\n",
    "                                                        scaler=feature1_scaler,\n",
    "                                                        fh=forecast_horizon,\n",
    "                                                        feature=feature1_test,\n",
    "                                                        feature_key=\"feature1\",\n",
    "                                                        day_offset=day_offset)\n",
    "    feature2_dict[start_hour] = plot_mean_specific_time(stacked_explainer_dict=stacked_explain,\n",
    "                                                        indexes=considered_indexes,\n",
    "                                                        step=the_step,\n",
    "                                                        start=start_hour,\n",
    "                                                        scaler=feature2_scaler,\n",
    "                                                        fh=forecast_horizon,\n",
    "                                                        feature=feature2_test,\n",
    "                                                        feature_key=\"feature2\",\n",
    "                                                        day_offset=day_offset)"
   ],
   "metadata": {
    "collapsed": false
   }
  },
  {
   "cell_type": "code",
   "execution_count": 24,
   "outputs": [],
   "source": [
    "for start_hour in [0, 24, 48, 72, 96, 120, 144]:\n",
    "    his_dict[start_hour].savefig(f\"{save_loc}{history_length}_{name_mapping[start_hour]}_mean_history.pdf\", format=\"pdf\", bbox_inches=\"tight\")\n",
    "    feature1_dict[start_hour].savefig(f\"{save_loc}{history_length}_{name_mapping[start_hour]}_mean_total_load.pdf\", format=\"pdf\", bbox_inches=\"tight\")\n",
    "    feature2_dict[start_hour].savefig(f\"{save_loc}{history_length}_{name_mapping[start_hour]}_mean_zonal_load.pdf\", format=\"pdf\", bbox_inches=\"tight\")"
   ],
   "metadata": {
    "collapsed": false,
    "ExecuteTime": {
     "end_time": "2023-10-10T15:13:22.126247Z",
     "start_time": "2023-10-10T15:13:12.813826Z"
    }
   }
  }
 ],
 "metadata": {
  "kernelspec": {
   "display_name": "Python 3",
   "language": "python",
   "name": "python3"
  },
  "language_info": {
   "codemirror_mode": {
    "name": "ipython",
    "version": 2
   },
   "file_extension": ".py",
   "mimetype": "text/x-python",
   "name": "python",
   "nbconvert_exporter": "python",
   "pygments_lexer": "ipython2",
   "version": "2.7.6"
  }
 },
 "nbformat": 4,
 "nbformat_minor": 0
}
